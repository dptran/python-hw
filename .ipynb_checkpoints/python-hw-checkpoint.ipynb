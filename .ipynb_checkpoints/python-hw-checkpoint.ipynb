{
 "cells": [
  {
   "cell_type": "code",
   "execution_count": null,
   "id": "db71809e",
   "metadata": {},
   "outputs": [],
   "source": [
    "#Exercise 1\n",
    "\n",
    "def calculator():\n",
    "    while True:\n",
    "        num1 = float(input(\"number 1?\"))\n",
    "        num2 = float(input(\"number 2?\"))\n",
    "        operation = input(\"Would you like to add, subtract, multiply, or divide?\")\n",
    "        if operation == \"multiply\":\n",
    "            print(num1 * num2)\n",
    "        elif operation == \"divide\":\n",
    "            print(num1 / num2)\n",
    "        elif operation == \"add\":\n",
    "            print(num1 + num2)\n",
    "        elif operation == \"subtract\":\n",
    "            print(num1 - num2)\n",
    "        else:\n",
    "            input(\"Invalid command. Press any key to continue.\")\n",
    "            continue\n",
    "            \n",
    "        done = False\n",
    "        while not done:\n",
    "            confirm = input(\"Would you like to continue? Y/N?\")\n",
    "            \n",
    "            if confirm == \"n\":\n",
    "                done = True\n",
    "            elif confirm == \"y\":\n",
    "                continue\n",
    "        break\n",
    "\n",
    "calculator()"
   ]
  },
  {
   "cell_type": "code",
   "execution_count": 3,
   "id": "856089b4",
   "metadata": {},
   "outputs": [
    {
     "name": "stdout",
     "output_type": "stream",
     "text": [
      "         X \n",
      "        X X \n",
      "       X X X \n",
      "      X X X X \n",
      "     X X X X X \n",
      "    X X X X X X \n",
      "   X X X X X X X \n",
      "  X X X X X X X X \n"
     ]
    }
   ],
   "source": [
    "#Exercise 2\n",
    "\n",
    "def pyramid(n):\n",
    "    for i in range(1, n):\n",
    "        print (' ' * (n - i), 'X ' * i)\n",
    "        \n",
    "pyramid(9)"
   ]
  }
 ],
 "metadata": {
  "kernelspec": {
   "display_name": "Python 3",
   "language": "python",
   "name": "python3"
  },
  "language_info": {
   "codemirror_mode": {
    "name": "ipython",
    "version": 3
   },
   "file_extension": ".py",
   "mimetype": "text/x-python",
   "name": "python",
   "nbconvert_exporter": "python",
   "pygments_lexer": "ipython3",
   "version": "3.8.8"
  }
 },
 "nbformat": 4,
 "nbformat_minor": 5
}
